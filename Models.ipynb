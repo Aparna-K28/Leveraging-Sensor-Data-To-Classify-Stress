{
 "cells": [
  {
   "cell_type": "code",
   "execution_count": 47,
   "metadata": {},
   "outputs": [],
   "source": [
    "import pandas as pd\n",
    "import numpy as np\n",
    "\n",
    "from sklearn.model_selection import train_test_split\n",
    "from sklearn.metrics import accuracy_score\n",
    "from sklearn.tree import DecisionTreeClassifier\n",
    "from sklearn.ensemble import RandomForestClassifier\n",
    "from sklearn.neighbors import KNeighborsClassifier\n",
    "from sklearn.preprocessing import MinMaxScaler\n",
    "from sklearn.decomposition import PCA\n",
    "from sklearn.metrics import confusion_matrix, ConfusionMatrixDisplay\n",
    "import matplotlib.pyplot as plt\n",
    "from sklearn.metrics import accuracy_score\n",
    "from sklearn.metrics import confusion_matrix\n",
    "from sklearn.metrics import f1_score"
   ]
  },
  {
   "cell_type": "code",
   "execution_count": 48,
   "metadata": {},
   "outputs": [
    {
     "name": "stdout",
     "output_type": "stream",
     "text": [
      "The number of rows and columns in the dataset : (84465, 58)\n",
      "Counts of categories in label :\n",
      " 0    39507\n",
      "1    17611\n",
      "4    11806\n",
      "2     9966\n",
      "3     5575\n",
      "Name: Label, dtype: int64\n"
     ]
    }
   ],
   "source": [
    "df = pd.read_csv('Enter Dataset Path')\n",
    "#Dataset Path should be changed as required\n",
    "\n",
    "print(\"The number of rows and columns in the dataset :\", df.shape)\n",
    "print(\"Counts of categories in label :\\n\", df['Label'].value_counts())\n",
    "df.drop(labels = 'index', axis = 1, inplace=True)\n",
    "s = pd.Series(df.Label, dtype=\"category\")\n",
    "df['Label'] = s"
   ]
  },
  {
   "cell_type": "code",
   "execution_count": null,
   "metadata": {},
   "outputs": [],
   "source": [
    "df = df[(df.Label != 3) & (df.Label != 4)]\n",
    "#This should be run for the 3 class classification problem"
   ]
  },
  {
   "cell_type": "code",
   "execution_count": 64,
   "metadata": {},
   "outputs": [
    {
     "data": {
      "text/plain": [
       "Index(['Mean_Chest_ACC1', 'Mean_Chest_ACC2', 'Mean_Chest_ACC3',\n",
       "       'Mean_Chest_EDA', 'Mean_Chest_EMG', 'Mean_Chest_Temp',\n",
       "       'Mean_Chest_Resp', 'Mean_Chest_ECG', 'Mean_Wrist_ACC1',\n",
       "       'Mean_Wrist_ACC2', 'Mean_Wrist_ACC3', 'Mean_Wrist_BVP',\n",
       "       'Mean_Wrist_EDA', 'Mean_Wrist_TEMP', 'SD_Chest_ACC1', 'SD_Chest_ACC2',\n",
       "       'SD_Chest_ACC3', 'SD_Chest_EDA', 'SD_Chest_EMG', 'SD_Chest_Temp',\n",
       "       'SD_Chest_Resp', 'SD_Chest_ECG', 'SD_Wrist_ACC1', 'SD_Wrist_ACC2',\n",
       "       'SD_Wrist_ACC3', 'SD_Wrist_BVP', 'SD_Wrist_EDA', 'SD_Wrist_TEMP',\n",
       "       'Min_Chest_ACC1', 'Min_Chest_ACC2', 'Min_Chest_ACC3', 'Min_Chest_EDA',\n",
       "       'Min_Chest_EMG', 'Min_Chest_Temp', 'Min_Chest_Resp', 'Min_Chest_ECG',\n",
       "       'Min_Wrist_ACC1', 'Min_Wrist_ACC2', 'Min_Wrist_ACC3', 'Min_Wrist_BVP',\n",
       "       'Min_Wrist_EDA', 'Min_Wrist_TEMP', 'Max_Chest_ACC1', 'Max_Chest_ACC2',\n",
       "       'Max_Chest_ACC3', 'Max_Chest_EDA', 'Max_Chest_EMG', 'Max_Chest_Temp',\n",
       "       'Max_Chest_Resp', 'Max_Chest_ECG', 'Max_Wrist_ACC1', 'Max_Wrist_ACC2',\n",
       "       'Max_Wrist_ACC3', 'Max_Wrist_BVP', 'Max_Wrist_EDA', 'Max_Wrist_TEMP',\n",
       "       'Label'],\n",
       "      dtype='object')"
      ]
     },
     "execution_count": 64,
     "metadata": {},
     "output_type": "execute_result"
    }
   ],
   "source": [
    "df.columns"
   ]
  },
  {
   "cell_type": "markdown",
   "metadata": {},
   "source": [
    "Decision Tree"
   ]
  },
  {
   "cell_type": "code",
   "execution_count": null,
   "metadata": {},
   "outputs": [],
   "source": [
    "target = df.iloc[:,-1:]\n",
    "feature = df.iloc[:,:-1]\n",
    "\n",
    "xtrain, xtest, ytrain, ytest = train_test_split(feature, target, train_size = 0.7)\n",
    "ytrain = ytrain.values.ravel()\n",
    "\n",
    "clf = DecisionTreeClassifier()\n",
    "\n",
    "clf = clf.fit(xtrain,ytrain)\n",
    "\n",
    "predicted_values = clf.predict(xtest)\n",
    "\n",
    "\n",
    "#Model evaluation\n",
    "print(\"Confusion Matrix :\\n\")\n",
    "cm = confusion_matrix(ytest, predicted_values, labels=clf.classes_)\n",
    "disp = ConfusionMatrixDisplay(confusion_matrix=cm, display_labels=clf.classes_)\n",
    "disp.plot()\n",
    "plt.show()\n",
    "\n",
    "feature_importances = pd.DataFrame(clf.feature_importances_,index = xtrain.columns, columns = ['importance']).sort_values('importance', ascending=False)\n",
    "print(feature_importances.head(9))\n",
    "print(\"Accuracy :\", accuracy_score(ytest, predicted_values)*100)\n",
    "print(\"F1-Score :\", f1_score(ytest, predicted_values, average = 'weighted')*100)"
   ]
  },
  {
   "cell_type": "markdown",
   "metadata": {},
   "source": [
    "Decision Tree with PCA"
   ]
  },
  {
   "cell_type": "code",
   "execution_count": null,
   "metadata": {},
   "outputs": [],
   "source": [
    "target = df.iloc[:,-1:]\n",
    "feature = df.iloc[:,:-1]\n",
    "\n",
    "xtrain, xtest, ytrain, ytest = train_test_split(feature, target, train_size = 0.7)\n",
    "ytrain = ytrain.values.ravel()\n",
    "\n",
    "pca = PCA(n_components=10)\n",
    "x_train = pca.fit_transform(xtrain)\n",
    "x_test = pca.transform(xtest)\n",
    "\n",
    "clf = DecisionTreeClassifier()\n",
    "\n",
    "clf = clf.fit(x_train,ytrain)\n",
    "\n",
    "predicted_values = clf.predict(x_test)\n",
    "\n",
    "\n",
    "#Model evaluation\n",
    "print(\"Confusion Matrix :\\n\")\n",
    "cm = confusion_matrix(ytest, predicted_values, labels=clf.classes_)\n",
    "disp = ConfusionMatrixDisplay(confusion_matrix=cm, display_labels=clf.classes_)\n",
    "disp.plot()\n",
    "plt.show()\n",
    "\n",
    "feature_importances = pd.DataFrame(clf.feature_importances_,index = xtrain.columns, columns = ['importance']).sort_values('importance', ascending=False)\n",
    "print(feature_importances.head(9))\n",
    "print(\"Accuracy :\", accuracy_score(ytest, predicted_values)*100)\n",
    "print(\"F1-Score :\", f1_score(ytest, predicted_values, average = 'weighted')*100)"
   ]
  },
  {
   "cell_type": "markdown",
   "metadata": {},
   "source": [
    "Random Forest"
   ]
  },
  {
   "cell_type": "code",
   "execution_count": null,
   "metadata": {},
   "outputs": [],
   "source": [
    "target = df.iloc[:,-1:]\n",
    "feature = df.iloc[:,:-1]\n",
    "\n",
    "xtrain, xtest, ytrain, ytest = train_test_split(feature, target, train_size = 0.7)\n",
    "ytrain = ytrain.values.ravel()\n",
    "\n",
    "clf = RandomForestClassifier()\n",
    "\n",
    "clf = clf.fit(x_train,ytrain)\n",
    "\n",
    "predicted_values = clf.predict(x_test)\n",
    "\n",
    "#Model evaluation\n",
    "print(\"Confusion Matrix :\\n\")\n",
    "cm = confusion_matrix(ytest, predicted_values, labels=clf.classes_)\n",
    "disp = ConfusionMatrixDisplay(confusion_matrix=cm, display_labels=clf.classes_)\n",
    "disp.plot()\n",
    "plt.show()\n",
    "\n",
    "feature_importances = pd.DataFrame(clf.feature_importances_,index = xtrain.columns, columns = ['importance']).sort_values('importance', ascending=False)\n",
    "print(feature_importances.head(9))\n",
    "print(\"Accuracy :\", accuracy_score(ytest, predicted_values)*100)\n",
    "print(\"F1-Score :\", f1_score(ytest, predicted_values, average = 'weighted')*100)"
   ]
  },
  {
   "cell_type": "markdown",
   "metadata": {},
   "source": [
    "Random Forest With PCA"
   ]
  },
  {
   "cell_type": "code",
   "execution_count": null,
   "metadata": {},
   "outputs": [],
   "source": [
    "target = df.iloc[:,-1:]\n",
    "feature = df.iloc[:,:-1]\n",
    "\n",
    "xtrain, xtest, ytrain, ytest = train_test_split(feature, target, train_size = 0.7)\n",
    "ytrain = ytrain.values.ravel()\n",
    "\n",
    "pca = PCA(n_components=10)\n",
    "x_train = pca.fit_transform(xtrain)\n",
    "x_test = pca.transform(xtest)\n",
    "\n",
    "clf = DecisionTreeClassifier()\n",
    "\n",
    "clf = clf.fit(x_train,ytrain)\n",
    "\n",
    "predicted_values = clf.predict(x_test)\n",
    "\n",
    "\n",
    "#Model evaluation\n",
    "print(\"Confusion Matrix :\\n\")\n",
    "cm = confusion_matrix(ytest, predicted_values, labels=clf.classes_)\n",
    "disp = ConfusionMatrixDisplay(confusion_matrix=cm, display_labels=clf.classes_)\n",
    "disp.plot()\n",
    "plt.show()\n",
    "\n",
    "feature_importances = pd.DataFrame(clf.feature_importances_,index = xtrain.columns, columns = ['importance']).sort_values('importance', ascending=False)\n",
    "print(feature_importances.head(9))\n",
    "print(\"Accuracy :\", accuracy_score(ytest, predicted_values)*100)\n",
    "print(\"F1-Score :\", f1_score(ytest, predicted_values, average = 'weighted')*100)"
   ]
  },
  {
   "cell_type": "markdown",
   "metadata": {},
   "source": [
    "KNN"
   ]
  },
  {
   "cell_type": "code",
   "execution_count": null,
   "metadata": {},
   "outputs": [],
   "source": [
    "target = df.iloc[:,-1:]\n",
    "feature = df.iloc[:,:-1]\n",
    "\n",
    "xtrain, xtest, ytrain, ytest = train_test_split(feature, target, train_size = 0.7)\n",
    "ytrain = ytrain.values.ravel()\n",
    "\n",
    "clf = KNeighborsClassifier()\n",
    "\n",
    "clf = clf.fit(xtrain,ytrain)\n",
    "\n",
    "predicted_values = clf.predict(xtest)\n",
    "\n",
    "\n",
    "#Model evaluation\n",
    "print(\"Confusion Matrix :\\n\")\n",
    "cm = confusion_matrix(ytest, predicted_values, labels=clf.classes_)\n",
    "disp = ConfusionMatrixDisplay(confusion_matrix=cm, display_labels=clf.classes_)\n",
    "disp.plot()\n",
    "plt.show()\n",
    "\n",
    "\n",
    "print(\"Accuracy :\", accuracy_score(ytest, predicted_values)*100)\n",
    "print(\"F1-Score :\", f1_score(ytest, predicted_values, average = 'weighted')*100)"
   ]
  },
  {
   "cell_type": "markdown",
   "metadata": {},
   "source": [
    "KNN With Scaling"
   ]
  },
  {
   "cell_type": "code",
   "execution_count": null,
   "metadata": {},
   "outputs": [],
   "source": [
    "target = df.iloc[:,-1:]\n",
    "feature = df.iloc[:,:-1]\n",
    "\n",
    "xtrain, xtest, ytrain, ytest = train_test_split(feature, target, train_size = 0.7)\n",
    "ytrain = ytrain.values.ravel()\n",
    "\n",
    "scaler = MinMaxScaler()\n",
    "x_train = scaler.fit_transform(xtrain)\n",
    "x_test = scaler.transform(xtest)\n",
    "\n",
    "clf = KNeighborsClassifier()\n",
    "\n",
    "clf = clf.fit(x_train,ytrain)\n",
    "\n",
    "predicted_values = clf.predict(x_test)\n",
    "\n",
    "\n",
    "\n",
    "#Model evaluation\n",
    "print(\"Confusion Matrix :\\n\")\n",
    "cm = confusion_matrix(ytest, predicted_values, labels=clf.classes_)\n",
    "disp = ConfusionMatrixDisplay(confusion_matrix=cm, display_labels=clf.classes_)\n",
    "disp.plot()\n",
    "plt.show()\n",
    "\n",
    "\n",
    "print(\"Accuracy :\", accuracy_score(ytest, predicted_values)*100)\n",
    "print(\"F1-Score :\", f1_score(ytest, predicted_values, average = 'weighted')*100)"
   ]
  },
  {
   "cell_type": "markdown",
   "metadata": {},
   "source": [
    "KNN With Scaling and Weights"
   ]
  },
  {
   "cell_type": "code",
   "execution_count": null,
   "metadata": {},
   "outputs": [],
   "source": [
    "target = df.iloc[:,-1:]\n",
    "feature = df.iloc[:,:-1]\n",
    "\n",
    "xtrain, xtest, ytrain, ytest = train_test_split(feature, target, train_size = 0.7)\n",
    "ytrain = ytrain.values.ravel()\n",
    "\n",
    "scaler = MinMaxScaler()\n",
    "x_train = scaler.fit_transform(xtrain)\n",
    "x_test = scaler.transform(xtest)\n",
    "\n",
    "clf = KNeighborsClassifier(weights='distance')\n",
    "\n",
    "clf = clf.fit(x_train,ytrain)\n",
    "\n",
    "predicted_values = clf.predict(x_test)\n",
    "\n",
    "\n",
    "#Model evaluation\n",
    "print(\"Confusion Matrix :\\n\")\n",
    "cm = confusion_matrix(ytest, predicted_values, labels=clf.classes_)\n",
    "disp = ConfusionMatrixDisplay(confusion_matrix=cm, display_labels=clf.classes_)\n",
    "disp.plot()\n",
    "plt.show()\n",
    "\n",
    "print(\"Accuracy :\", accuracy_score(ytest, predicted_values)*100)\n",
    "print(\"F1-Score :\", f1_score(ytest, predicted_values, average = 'weighted')*100)"
   ]
  }
 ],
 "metadata": {
  "kernelspec": {
   "display_name": "Python 3.9.7 ('base')",
   "language": "python",
   "name": "python3"
  },
  "language_info": {
   "codemirror_mode": {
    "name": "ipython",
    "version": 3
   },
   "file_extension": ".py",
   "mimetype": "text/x-python",
   "name": "python",
   "nbconvert_exporter": "python",
   "pygments_lexer": "ipython3",
   "version": "3.9.7"
  },
  "orig_nbformat": 4,
  "vscode": {
   "interpreter": {
    "hash": "651c3b7b3f466eb030aa737f279c846be4db9cba49a2f229278cab5e41121ed5"
   }
  }
 },
 "nbformat": 4,
 "nbformat_minor": 2
}
